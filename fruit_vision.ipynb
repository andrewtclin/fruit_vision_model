{
 "cells": [
  {
   "cell_type": "markdown",
   "id": "346a6b43",
   "metadata": {},
   "source": [
    "# Fruit Classification\n",
    "\n",
    "Classification of 100 Fruit classes: [Data Retrieved from Kaggle](https://www.kaggle.com/datasets/marquis03/fruits-100)"
   ]
  },
  {
   "cell_type": "markdown",
   "id": "a5d6d1e0",
   "metadata": {},
   "source": [
    "## Model of Choice\n",
    "\n",
    "EfficientNetB2\n",
    "* 9.1M parameters\n",
    "* ~95% Accuracy\n",
    "\n",
    "This implies the size of the model, can possibly fit onto the mobile device with better inference speed."
   ]
  },
  {
   "cell_type": "markdown",
   "id": "5ba60f5e",
   "metadata": {},
   "source": [
    "## Goal of Model Performance\n",
    "\n",
    "Performance Metrics:\n",
    "* Accuracy: ~95%\n",
    "* Prediction latency: ~30ms (30FPS)"
   ]
  },
  {
   "cell_type": "code",
   "execution_count": 62,
   "id": "f1d57a92",
   "metadata": {},
   "outputs": [],
   "source": [
    "from torch import nn\n",
    "import torch\n",
    "import torchvision\n",
    "\n",
    "from torchvision import datasets\n",
    "from torch.utils.data import DataLoader, random_split\n",
    "\n",
    "from torchinfo import summary\n",
    "\n",
    "import matplotlib.pyplot as plt\n",
    "\n",
    "from pathlib import Path\n",
    "import os"
   ]
  },
  {
   "cell_type": "markdown",
   "id": "4c1c5f0e",
   "metadata": {},
   "source": [
    "### Transfer Learning Setup"
   ]
  },
  {
   "cell_type": "markdown",
   "id": "aed3cd91",
   "metadata": {},
   "source": [
    "Retrieving Weights"
   ]
  },
  {
   "cell_type": "code",
   "execution_count": 3,
   "id": "cca62592",
   "metadata": {},
   "outputs": [],
   "source": [
    "weights = torchvision.models.EfficientNet_B2_Weights.DEFAULT"
   ]
  },
  {
   "cell_type": "markdown",
   "id": "aeb10b9c",
   "metadata": {},
   "source": [
    "Retrieving Data Preprocessing Metrics"
   ]
  },
  {
   "cell_type": "code",
   "execution_count": 19,
   "id": "db96b712",
   "metadata": {},
   "outputs": [],
   "source": [
    "transforms = weights.transforms()"
   ]
  },
  {
   "cell_type": "markdown",
   "id": "232d5f1f",
   "metadata": {},
   "source": [
    "Model Initialisation"
   ]
  },
  {
   "cell_type": "code",
   "execution_count": 6,
   "id": "7db21481",
   "metadata": {},
   "outputs": [],
   "source": [
    "model = torchvision.models.efficientnet_b2(weights=weights)"
   ]
  },
  {
   "cell_type": "markdown",
   "id": "1333fcc5",
   "metadata": {},
   "source": [
    "Freezing all hidden layers except for classifier"
   ]
  },
  {
   "cell_type": "code",
   "execution_count": 7,
   "id": "450f81fa",
   "metadata": {},
   "outputs": [
    {
     "data": {
      "text/plain": [
       "Sequential(\n",
       "  (0): Dropout(p=0.3, inplace=True)\n",
       "  (1): Linear(in_features=1408, out_features=1000, bias=True)\n",
       ")"
      ]
     },
     "execution_count": 7,
     "metadata": {},
     "output_type": "execute_result"
    }
   ],
   "source": [
    "model.classifier"
   ]
  },
  {
   "cell_type": "code",
   "execution_count": 15,
   "id": "443684ca",
   "metadata": {},
   "outputs": [],
   "source": [
    "FRUIT_CLASSES = 100\n",
    "\n",
    "for param in model.parameters():\n",
    "    param.requires_grad = False\n",
    "    \n",
    "    model.classifier = nn.Sequential(nn.Dropout(p=0.3, inplace=True),\n",
    "                                     nn.Linear(in_features=1408, out_features=FRUIT_CLASSES))"
   ]
  },
  {
   "cell_type": "markdown",
   "id": "6fbf532d",
   "metadata": {},
   "source": [
    "### Information on the model setup"
   ]
  },
  {
   "cell_type": "code",
   "execution_count": 16,
   "id": "9938c09e",
   "metadata": {
    "scrolled": false
   },
   "outputs": [
    {
     "data": {
      "text/plain": [
       "============================================================================================================================================\n",
       "Layer (type (var_name))                                      Input Shape          Output Shape         Param #              Trainable\n",
       "============================================================================================================================================\n",
       "EfficientNet (EfficientNet)                                  [1, 3, 224, 224]     [1, 100]             --                   Partial\n",
       "├─Sequential (features)                                      [1, 3, 224, 224]     [1, 1408, 7, 7]      --                   False\n",
       "│    └─Conv2dNormActivation (0)                              [1, 3, 224, 224]     [1, 32, 112, 112]    --                   False\n",
       "│    │    └─Conv2d (0)                                       [1, 3, 224, 224]     [1, 32, 112, 112]    (864)                False\n",
       "│    │    └─BatchNorm2d (1)                                  [1, 32, 112, 112]    [1, 32, 112, 112]    (64)                 False\n",
       "│    │    └─SiLU (2)                                         [1, 32, 112, 112]    [1, 32, 112, 112]    --                   --\n",
       "│    └─Sequential (1)                                        [1, 32, 112, 112]    [1, 16, 112, 112]    --                   False\n",
       "│    │    └─MBConv (0)                                       [1, 32, 112, 112]    [1, 16, 112, 112]    (1,448)              False\n",
       "│    │    └─MBConv (1)                                       [1, 16, 112, 112]    [1, 16, 112, 112]    (612)                False\n",
       "│    └─Sequential (2)                                        [1, 16, 112, 112]    [1, 24, 56, 56]      --                   False\n",
       "│    │    └─MBConv (0)                                       [1, 16, 112, 112]    [1, 24, 56, 56]      (6,004)              False\n",
       "│    │    └─MBConv (1)                                       [1, 24, 56, 56]      [1, 24, 56, 56]      (10,710)             False\n",
       "│    │    └─MBConv (2)                                       [1, 24, 56, 56]      [1, 24, 56, 56]      (10,710)             False\n",
       "│    └─Sequential (3)                                        [1, 24, 56, 56]      [1, 48, 28, 28]      --                   False\n",
       "│    │    └─MBConv (0)                                       [1, 24, 56, 56]      [1, 48, 28, 28]      (16,518)             False\n",
       "│    │    └─MBConv (1)                                       [1, 48, 28, 28]      [1, 48, 28, 28]      (43,308)             False\n",
       "│    │    └─MBConv (2)                                       [1, 48, 28, 28]      [1, 48, 28, 28]      (43,308)             False\n",
       "│    └─Sequential (4)                                        [1, 48, 28, 28]      [1, 88, 14, 14]      --                   False\n",
       "│    │    └─MBConv (0)                                       [1, 48, 28, 28]      [1, 88, 14, 14]      (50,300)             False\n",
       "│    │    └─MBConv (1)                                       [1, 88, 14, 14]      [1, 88, 14, 14]      (123,750)            False\n",
       "│    │    └─MBConv (2)                                       [1, 88, 14, 14]      [1, 88, 14, 14]      (123,750)            False\n",
       "│    │    └─MBConv (3)                                       [1, 88, 14, 14]      [1, 88, 14, 14]      (123,750)            False\n",
       "│    └─Sequential (5)                                        [1, 88, 14, 14]      [1, 120, 14, 14]     --                   False\n",
       "│    │    └─MBConv (0)                                       [1, 88, 14, 14]      [1, 120, 14, 14]     (149,158)            False\n",
       "│    │    └─MBConv (1)                                       [1, 120, 14, 14]     [1, 120, 14, 14]     (237,870)            False\n",
       "│    │    └─MBConv (2)                                       [1, 120, 14, 14]     [1, 120, 14, 14]     (237,870)            False\n",
       "│    │    └─MBConv (3)                                       [1, 120, 14, 14]     [1, 120, 14, 14]     (237,870)            False\n",
       "│    └─Sequential (6)                                        [1, 120, 14, 14]     [1, 208, 7, 7]       --                   False\n",
       "│    │    └─MBConv (0)                                       [1, 120, 14, 14]     [1, 208, 7, 7]       (301,406)            False\n",
       "│    │    └─MBConv (1)                                       [1, 208, 7, 7]       [1, 208, 7, 7]       (686,868)            False\n",
       "│    │    └─MBConv (2)                                       [1, 208, 7, 7]       [1, 208, 7, 7]       (686,868)            False\n",
       "│    │    └─MBConv (3)                                       [1, 208, 7, 7]       [1, 208, 7, 7]       (686,868)            False\n",
       "│    │    └─MBConv (4)                                       [1, 208, 7, 7]       [1, 208, 7, 7]       (686,868)            False\n",
       "│    └─Sequential (7)                                        [1, 208, 7, 7]       [1, 352, 7, 7]       --                   False\n",
       "│    │    └─MBConv (0)                                       [1, 208, 7, 7]       [1, 352, 7, 7]       (846,900)            False\n",
       "│    │    └─MBConv (1)                                       [1, 352, 7, 7]       [1, 352, 7, 7]       (1,888,920)          False\n",
       "│    └─Conv2dNormActivation (8)                              [1, 352, 7, 7]       [1, 1408, 7, 7]      --                   False\n",
       "│    │    └─Conv2d (0)                                       [1, 352, 7, 7]       [1, 1408, 7, 7]      (495,616)            False\n",
       "│    │    └─BatchNorm2d (1)                                  [1, 1408, 7, 7]      [1, 1408, 7, 7]      (2,816)              False\n",
       "│    │    └─SiLU (2)                                         [1, 1408, 7, 7]      [1, 1408, 7, 7]      --                   --\n",
       "├─AdaptiveAvgPool2d (avgpool)                                [1, 1408, 7, 7]      [1, 1408, 1, 1]      --                   --\n",
       "├─Sequential (classifier)                                    [1, 1408]            [1, 100]             --                   True\n",
       "│    └─Dropout (0)                                           [1, 1408]            [1, 1408]            --                   --\n",
       "│    └─Linear (1)                                            [1, 1408]            [1, 100]             140,900              True\n",
       "============================================================================================================================================\n",
       "Total params: 7,841,894\n",
       "Trainable params: 140,900\n",
       "Non-trainable params: 7,700,994\n",
       "Total mult-adds (Units.MEGABYTES): 657.78\n",
       "============================================================================================================================================\n",
       "Input size (MB): 0.60\n",
       "Forward/backward pass size (MB): 156.80\n",
       "Params size (MB): 31.37\n",
       "Estimated Total Size (MB): 188.77\n",
       "============================================================================================================================================"
      ]
     },
     "execution_count": 16,
     "metadata": {},
     "output_type": "execute_result"
    }
   ],
   "source": [
    "summary(model,\n",
    "        input_size=(1, 3, 224, 224),\n",
    "        col_names=['input_size', 'output_size', 'num_params', 'trainable'],\n",
    "        col_width=20,\n",
    "        row_settings=['var_names'])"
   ]
  },
  {
   "cell_type": "markdown",
   "id": "2fb482b7",
   "metadata": {},
   "source": [
    "### Data Preprocessing\n",
    "\n",
    "To avoid overfitting:\n",
    "* Add data augmentation\n",
    "    * TrivialAugment: State-of-Art augmentation"
   ]
  },
  {
   "cell_type": "code",
   "execution_count": 20,
   "id": "7f784ab5",
   "metadata": {},
   "outputs": [
    {
     "data": {
      "text/plain": [
       "Compose(\n",
       "    TrivialAugmentWide(num_magnitude_bins=31, interpolation=InterpolationMode.NEAREST, fill=None)\n",
       "    ImageClassification(\n",
       "    crop_size=[288]\n",
       "    resize_size=[288]\n",
       "    mean=[0.485, 0.456, 0.406]\n",
       "    std=[0.229, 0.224, 0.225]\n",
       "    interpolation=InterpolationMode.BICUBIC\n",
       ")\n",
       ")"
      ]
     },
     "execution_count": 20,
     "metadata": {},
     "output_type": "execute_result"
    }
   ],
   "source": [
    "# Training Data Preprocessing\n",
    "train_transforms = torchvision.transforms.Compose([torchvision.transforms.TrivialAugmentWide(),\n",
    "                                             transforms])\n",
    "train_transforms"
   ]
  },
  {
   "cell_type": "code",
   "execution_count": 22,
   "id": "db73d46c",
   "metadata": {},
   "outputs": [
    {
     "data": {
      "text/plain": [
       "ImageClassification(\n",
       "    crop_size=[288]\n",
       "    resize_size=[288]\n",
       "    mean=[0.485, 0.456, 0.406]\n",
       "    std=[0.229, 0.224, 0.225]\n",
       "    interpolation=InterpolationMode.BICUBIC\n",
       ")"
      ]
     },
     "execution_count": 22,
     "metadata": {},
     "output_type": "execute_result"
    }
   ],
   "source": [
    "# Testing Data Preprocessing\n",
    "test_transforms = transforms\n",
    "test_transforms"
   ]
  },
  {
   "cell_type": "markdown",
   "id": "53adc23d",
   "metadata": {},
   "source": [
    "### Importing Dataset"
   ]
  },
  {
   "cell_type": "markdown",
   "id": "44b40af9",
   "metadata": {},
   "source": [
    "Setting up data location"
   ]
  },
  {
   "cell_type": "code",
   "execution_count": 25,
   "id": "306933c2",
   "metadata": {},
   "outputs": [
    {
     "data": {
      "text/plain": [
       "(WindowsPath('data/fruit_100/train'), WindowsPath('data/fruit_100/test'))"
      ]
     },
     "execution_count": 25,
     "metadata": {},
     "output_type": "execute_result"
    }
   ],
   "source": [
    "# Data directory\n",
    "data_path = Path('data/fruit_100')\n",
    "train_data_path = data_path / 'train'\n",
    "test_data_path = data_path / 'test'\n",
    "\n",
    "train_data_path, test_data_path"
   ]
  },
  {
   "cell_type": "markdown",
   "id": "7626666b",
   "metadata": {},
   "source": [
    "Loading data into pytorch datasets format"
   ]
  },
  {
   "cell_type": "code",
   "execution_count": 28,
   "id": "1ab8f34d",
   "metadata": {},
   "outputs": [],
   "source": [
    "train_data = datasets.ImageFolder(root=train_data_path,\n",
    "                                  transform=train_transforms)\n",
    "\n",
    "# No augmentation\n",
    "test_data = datasets.ImageFolder(root=test_data_path,\n",
    "                                 transform=test_transforms)\n",
    "\n",
    "class_names = train_data.classes"
   ]
  },
  {
   "cell_type": "markdown",
   "id": "aeada31f",
   "metadata": {},
   "source": [
    "Turning data into batches\n",
    "* Train data: 1250 batches of 32 images = 40,000\n",
    "* Test data: 157 batches of 32 images = 5,024\n",
    "* Number of classes: 100"
   ]
  },
  {
   "cell_type": "code",
   "execution_count": 30,
   "id": "a8916978",
   "metadata": {},
   "outputs": [
    {
     "data": {
      "text/plain": [
       "(1250, 157, 100)"
      ]
     },
     "execution_count": 30,
     "metadata": {},
     "output_type": "execute_result"
    }
   ],
   "source": [
    "BATCH_SIZE = 32\n",
    "WORKERS = os.cpu_count()\n",
    "\n",
    "train_dataloader = DataLoader(dataset=train_data,\n",
    "                              batch_size=BATCH_SIZE,\n",
    "                              shuffle=True,\n",
    "                              num_workers=WORKERS,\n",
    "                              pin_memory=True)\n",
    "\n",
    "test_dataloader = DataLoader(dataset=test_data,\n",
    "                             batch_size=BATCH_SIZE,\n",
    "                             shuffle=True,\n",
    "                             num_workers=WORKERS,\n",
    "                             pin_memory=True)\n",
    "\n",
    "len(train_dataloader), len(test_dataloader), len(class_names)"
   ]
  },
  {
   "cell_type": "markdown",
   "id": "5001e91d",
   "metadata": {},
   "source": [
    "### Subsets of Datasets\n",
    "\n",
    "To make quick experiments before deciding a model configuration, requires smaller dataset to run the experiments.\n",
    "\n",
    "Goal: Benchmark ~60%"
   ]
  },
  {
   "cell_type": "code",
   "execution_count": 32,
   "id": "1884d781",
   "metadata": {},
   "outputs": [],
   "source": [
    "def create_subdataset(dataset:torchvision.datasets,\n",
    "                      split_size:float=0.2):\n",
    "    # Creating subsets\n",
    "    small_length = int(len(dataset) * split_size)\n",
    "    big_length = len(dataset) - small_length\n",
    "    \n",
    "    # Creating splits\n",
    "    small_portion, big_portion = random_split(dataset,\n",
    "                                              lengths=[small_length, big_length])\n",
    "    \n",
    "    return small_portion, big_portion"
   ]
  },
  {
   "cell_type": "code",
   "execution_count": 33,
   "id": "9ec9cc1a",
   "metadata": {},
   "outputs": [],
   "source": [
    "SPLIT_SIZE = 0.2\n",
    "\n",
    "train_data_subset, _ = create_subdataset(dataset=train_data,\n",
    "                                         split_size=SPLIT_SIZE)\n",
    "\n",
    "test_data_subset, _ = create_subdataset(dataset=test_data,\n",
    "                                        split_size=SPLIT_SIZE)"
   ]
  },
  {
   "cell_type": "code",
   "execution_count": 34,
   "id": "1fb815a3",
   "metadata": {},
   "outputs": [
    {
     "data": {
      "text/plain": [
       "(8000, 1000)"
      ]
     },
     "execution_count": 34,
     "metadata": {},
     "output_type": "execute_result"
    }
   ],
   "source": [
    "len(train_data_subset), len(test_data_subset)"
   ]
  },
  {
   "cell_type": "markdown",
   "id": "c9d1e2d1",
   "metadata": {},
   "source": [
    "Turning subdataset into batches"
   ]
  },
  {
   "cell_type": "code",
   "execution_count": 42,
   "id": "c4e06987",
   "metadata": {},
   "outputs": [
    {
     "data": {
      "text/plain": [
       "(250, 32)"
      ]
     },
     "execution_count": 42,
     "metadata": {},
     "output_type": "execute_result"
    }
   ],
   "source": [
    "BATCH_SIZE = 32\n",
    "WORKERS = os.cpu_count()\n",
    "\n",
    "train_subset_dataloader = DataLoader(dataset=train_data_subset,\n",
    "                                     batch_size=BATCH_SIZE,\n",
    "                                     shuffle=True,\n",
    "                                     num_workers=WORKERS,\n",
    "                                     pin_memory=True)\n",
    "\n",
    "test_subset_dataloader = DataLoader(dataset=test_data_subset,\n",
    "                                    batch_size=BATCH_SIZE,\n",
    "                                    shuffle=True,\n",
    "                                    num_workers=WORKERS,\n",
    "                                    pin_memory=True)\n",
    "\n",
    "len(train_subset_dataloader), len(test_subset_dataloader)"
   ]
  },
  {
   "cell_type": "markdown",
   "id": "d6e88c85",
   "metadata": {},
   "source": [
    "### Training Process\n",
    "\n",
    "Initial Hyperparameters:\n",
    "* 20 epochs\n",
    "* Optimiser: `torch.optim.Adam(lr=1e-3)`\n",
    "* Loss function: `torch.nn.CrossEntropyLoss(label_smoothing=0.1)`\n",
    "    * label smoothing - regularisation to decrease model being over-confident on a class."
   ]
  },
  {
   "cell_type": "code",
   "execution_count": 45,
   "id": "1d442720",
   "metadata": {},
   "outputs": [],
   "source": [
    "LEARNING_RATE = 1e-3\n",
    "LABEL_SMOOTHING =0.1\n",
    "\n",
    "optimiser = torch.optim.Adam(params=model.parameters(),\n",
    "                             lr=LEARNING_RATE)\n",
    "\n",
    "loss_fn = nn.CrossEntropyLoss(label_smoothing=LABEL_SMOOTHING)"
   ]
  },
  {
   "cell_type": "markdown",
   "id": "c857e75d",
   "metadata": {},
   "source": [
    "Setting up training & testing process"
   ]
  },
  {
   "cell_type": "code",
   "execution_count": 56,
   "id": "ae96bd04",
   "metadata": {},
   "outputs": [],
   "source": [
    "from tqdm.auto import tqdm\n",
    "from typing import Tuple, Dict, List\n",
    "\n",
    "def train_epoch(model:torch.nn.Module,\n",
    "                data_batches:torch.utils.data.DataLoader,\n",
    "                loss_fn:torch.nn.Module,\n",
    "                optimiser:torch.optim.Optimizer,\n",
    "                device:torch.device) -> Tuple[float, float]:\n",
    "    \n",
    "    # Turning on training mode\n",
    "    model.train()\n",
    "    \n",
    "    # Loss and accuracy initialisation\n",
    "    train_loss, train_acc = 0, 0\n",
    "    \n",
    "    # Loop batches\n",
    "    for batch, (X, y) in enumerate(data_batches):\n",
    "        # Put data to device\n",
    "        X, y = X.to(device), y.to(device)\n",
    "        \n",
    "        # Forward propagation\n",
    "        y_logits = model(X)\n",
    "        \n",
    "        # Calculate loss\n",
    "        loss = loss_fn(y_logits, y)\n",
    "        train_loss += loss.item()\n",
    "        \n",
    "        # Resetting optimiser\n",
    "        optimiser.zero_grad()\n",
    "        \n",
    "        # Backward propagation\n",
    "        loss.backward()\n",
    "        \n",
    "        # Update Gradient\n",
    "        optimiser.step()\n",
    "        \n",
    "        # Calculate accuracy\n",
    "        y_pred = torch.argmax(torch.softmax(y_logits, dim=1), dim=1)\n",
    "        train_acc += (y_pred == y).sum().item() / len(y_logits)\n",
    "        \n",
    "    # Calculating average loss and accuracy\n",
    "    train_loss = train_loss / len(data_batches)\n",
    "    train_acc = train_acc / len(data_batches)\n",
    "    \n",
    "    return train_loss, train_acc"
   ]
  },
  {
   "cell_type": "code",
   "execution_count": 57,
   "id": "ed5c86fd",
   "metadata": {},
   "outputs": [],
   "source": [
    "def test_epoch(model:torch.nn.Module,\n",
    "               data_batches:torch.utils.data.DataLoader,\n",
    "               loss_fn:torch.nn.Module,\n",
    "               device:torch.device) -> Tuple[float, float]:\n",
    "    # Turning on evaluation mode\n",
    "    model.eval()\n",
    "    \n",
    "    # Intialising loss and accuracy\n",
    "    test_loss, test_acc = 0, 0\n",
    "    \n",
    "    # Turn on inference manager\n",
    "    with torch.inference_mode():\n",
    "        # Loop batches\n",
    "        for batch, (X, y) in enumerate(data_batches):\n",
    "            # Move data to target device\n",
    "            X, y = X.to(device), y.to(device)\n",
    "            \n",
    "            # Forward propagation\n",
    "            y_logits = model(X)\n",
    "            \n",
    "            # Calculate loss\n",
    "            loss = loss_fn(y_logits, y)\n",
    "            test_loss += loss.item()\n",
    "            \n",
    "            # Calculate accuracy\n",
    "            y_pred = y_logits.argmax(dim=1)\n",
    "            test_acc += (y_pred == y).sum().item() / len(y_pred)\n",
    "            \n",
    "    # Calculating average\n",
    "    test_loss = test_loss / len(data_batches)\n",
    "    test_acc = test_acc / len(data_batches)\n",
    "    return test_loss, test_acc"
   ]
  },
  {
   "cell_type": "code",
   "execution_count": 58,
   "id": "e8c34215",
   "metadata": {},
   "outputs": [],
   "source": [
    "def train_model(model:torch.nn.Module,\n",
    "                train_data_batches:torch.utils.data.DataLoader,\n",
    "                test_data_batches:torch.utils.data.DataLoader,\n",
    "                optimiser:torch.optim.Optimizer,\n",
    "                loss_fn:torch.nn.Module,\n",
    "                epochs:int,\n",
    "                device:torch.device) -> Dict[str, List]:\n",
    "    \n",
    "    # Initialising results\n",
    "    results = {'train_loss':[],\n",
    "               'train_acc':[],\n",
    "               'test_loss':[],\n",
    "               'test_acc':[]}\n",
    "    \n",
    "    # Move model to device\n",
    "    model.to(device)\n",
    "    \n",
    "    # Train and inference by epochs\n",
    "    for epoch in tqdm(range(epochs)):\n",
    "        train_loss, train_acc = train_epoch(model=model,\n",
    "                                            data_batches=train_data_batches,\n",
    "                                            loss_fn=loss_fn,\n",
    "                                            optimiser=optimiser,\n",
    "                                            device=device)\n",
    "        \n",
    "        test_loss, test_acc = test_epoch(model=model,\n",
    "                                         data_batches=test_data_batches,\n",
    "                                         loss_fn=loss_fn,\n",
    "                                         device=device)\n",
    "        \n",
    "        # Training info\n",
    "        print(f'Epoch: {epoch+1} | '\n",
    "              f'train_acc: {train_acc:.4f} | '\n",
    "              f'train_loss: {train_loss:.4f} | '\n",
    "              f'test_acc: {test_acc:.4f} | '\n",
    "              f'test_loss: {test_loss:.4f}')\n",
    "        \n",
    "        # Update results\n",
    "        results['train_acc'].append(train_acc)\n",
    "        results['train_loss'].append(train_loss)\n",
    "        results['test_acc'].append(test_acc)\n",
    "        results['test_loss'].append(test_loss)\n",
    "        \n",
    "    return results"
   ]
  },
  {
   "cell_type": "code",
   "execution_count": 65,
   "id": "6a28af6b",
   "metadata": {},
   "outputs": [
    {
     "data": {
      "application/vnd.jupyter.widget-view+json": {
       "model_id": "a5db0fdcfebd4c87811008282aa50762",
       "version_major": 2,
       "version_minor": 0
      },
      "text/plain": [
       "  0%|          | 0/20 [00:00<?, ?it/s]"
      ]
     },
     "metadata": {},
     "output_type": "display_data"
    },
    {
     "name": "stdout",
     "output_type": "stream",
     "text": [
      "Epoch: 1 | train_acc: 0.6740 | train_loss: 1.9930 | test_acc: 0.6631 | test_loss: 1.9603\n",
      "Epoch: 2 | train_acc: 0.6849 | train_loss: 1.9418 | test_acc: 0.6572 | test_loss: 1.9699\n",
      "Epoch: 3 | train_acc: 0.6920 | train_loss: 1.9076 | test_acc: 0.6680 | test_loss: 1.9431\n",
      "Epoch: 4 | train_acc: 0.7029 | train_loss: 1.8868 | test_acc: 0.6826 | test_loss: 1.9331\n",
      "Epoch: 5 | train_acc: 0.7100 | train_loss: 1.8582 | test_acc: 0.6709 | test_loss: 1.9102\n",
      "Epoch: 6 | train_acc: 0.7174 | train_loss: 1.8320 | test_acc: 0.6729 | test_loss: 1.9308\n",
      "Epoch: 7 | train_acc: 0.7224 | train_loss: 1.8146 | test_acc: 0.6650 | test_loss: 1.9420\n",
      "Epoch: 8 | train_acc: 0.7208 | train_loss: 1.8191 | test_acc: 0.6777 | test_loss: 1.9181\n",
      "Epoch: 9 | train_acc: 0.7286 | train_loss: 1.7957 | test_acc: 0.6777 | test_loss: 1.9136\n",
      "Epoch: 10 | train_acc: 0.7324 | train_loss: 1.7897 | test_acc: 0.6680 | test_loss: 1.9103\n",
      "Epoch: 11 | train_acc: 0.7380 | train_loss: 1.7838 | test_acc: 0.6777 | test_loss: 1.9289\n",
      "Epoch: 12 | train_acc: 0.7416 | train_loss: 1.7719 | test_acc: 0.6719 | test_loss: 1.9190\n",
      "Epoch: 13 | train_acc: 0.7392 | train_loss: 1.7654 | test_acc: 0.6787 | test_loss: 1.9126\n",
      "Epoch: 14 | train_acc: 0.7409 | train_loss: 1.7559 | test_acc: 0.6621 | test_loss: 1.9629\n",
      "Epoch: 15 | train_acc: 0.7500 | train_loss: 1.7463 | test_acc: 0.6680 | test_loss: 1.9276\n",
      "Epoch: 16 | train_acc: 0.7428 | train_loss: 1.7453 | test_acc: 0.6680 | test_loss: 1.9088\n",
      "Epoch: 17 | train_acc: 0.7526 | train_loss: 1.7433 | test_acc: 0.6768 | test_loss: 1.9185\n",
      "Epoch: 18 | train_acc: 0.7456 | train_loss: 1.7421 | test_acc: 0.6553 | test_loss: 1.9193\n",
      "Epoch: 19 | train_acc: 0.7534 | train_loss: 1.7260 | test_acc: 0.6729 | test_loss: 1.9066\n",
      "Epoch: 20 | train_acc: 0.7560 | train_loss: 1.7216 | test_acc: 0.6758 | test_loss: 1.9124\n"
     ]
    }
   ],
   "source": [
    "EPOCHS = 20\n",
    "device = 'cuda' if torch.cuda.is_available() else 'cpu'\n",
    "\n",
    "model_results = train_model(model=model,\n",
    "                            train_data_batches=train_subset_dataloader,\n",
    "                            test_data_batches=test_subset_dataloader,\n",
    "                            optimiser=optimiser,\n",
    "                            loss_fn=loss_fn,\n",
    "                            epochs=EPOCHS,\n",
    "                            device=device)"
   ]
  },
  {
   "cell_type": "markdown",
   "id": "3ec63ac1",
   "metadata": {},
   "source": [
    "### Model Evaluation"
   ]
  },
  {
   "cell_type": "code",
   "execution_count": 66,
   "id": "e9d8959d",
   "metadata": {},
   "outputs": [],
   "source": [
    "def plot_loss_curves(results):\n",
    "    loss = results['train_loss']\n",
    "    test_loss = results['test_loss']\n",
    "    \n",
    "    accuracy = results['train_acc']\n",
    "    test_accuracy = results['test_acc']\n",
    "    \n",
    "    epochs = range(len(results['train_loss']))\n",
    "    \n",
    "    plt.figure(figsize=(15,7))\n",
    "    \n",
    "    # Plot loss\n",
    "    plt.subplot(1, 2, 1)\n",
    "    plt.plot(epochs, loss, label='train_loss')\n",
    "    plt.plot(epochs,test_loss, label='test_loss')\n",
    "    plt.title('Loss')\n",
    "    plt.xlabel('Epochs')\n",
    "    plt.legend()\n",
    "    \n",
    "    # plot accuracy\n",
    "    plt.subplot(1, 2, 2)\n",
    "    plt.plot(epochs, accuracy, label='train_accuracy')\n",
    "    plt.plot(epochs, test_accuracy, label='test_accuracy')\n",
    "    plt.title('Accuracy')\n",
    "    plt.xlabel('Epochs')\n",
    "    plt.legend()"
   ]
  },
  {
   "cell_type": "code",
   "execution_count": 67,
   "id": "ec71863c",
   "metadata": {},
   "outputs": [
    {
     "data": {
      "image/png": "[encoded data removed]",
      "text/plain": [
       "<Figure size 1500x700 with 2 Axes>"
      ]
     },
     "metadata": {},
     "output_type": "display_data"
    }
   ],
   "source": [
    "plot_loss_curves(model_results)"
   ]
  },
  {
   "cell_type": "markdown",
   "id": "e5bff9cc",
   "metadata": {},
   "source": [
    "Sign of overfitting, but this leaves for future enhancement."
   ]
  },
  {
   "cell_type": "markdown",
   "id": "c72eff90",
   "metadata": {},
   "source": [
    "### Saving model"
   ]
  },
  {
   "cell_type": "code",
   "execution_count": 68,
   "id": "0d03d78f",
   "metadata": {},
   "outputs": [],
   "source": [
    "def save_model(model: torch.nn.Module,\n",
    "               target_dir: str,\n",
    "               model_name:str):\n",
    "    \n",
    "    # Create target directory\n",
    "    target_dir_path = Path(target_dir)\n",
    "    target_dir_path.mkdir(parents=True,\n",
    "                          exist_ok=True)\n",
    "    \n",
    "    # Create model path\n",
    "    assert model_name.endswith('.pth') or model_name.endswith('.pt'), 'model_name should be .pt or .pth format.'\n",
    "    model_save_path = target_dir_path / model_name\n",
    "    \n",
    "    # Save the state_dict()\n",
    "    print(f'[INFO] Saving model to: {model_save_path}')\n",
    "    torch.save(obj=model.state_dict(),\n",
    "               f=model_save_path)"
   ]
  },
  {
   "cell_type": "code",
   "execution_count": 69,
   "id": "644e09de",
   "metadata": {},
   "outputs": [
    {
     "name": "stdout",
     "output_type": "stream",
     "text": [
      "[INFO] Saving model to: models\\fruits_100_feature_extractor_20.pth\n"
     ]
    }
   ],
   "source": [
    "model_path = 'fruits_100_feature_extractor_20.pth'\n",
    "\n",
    "save_model(model=model,\n",
    "           target_dir='models/',\n",
    "           model_name=model_path)"
   ]
  },
  {
   "cell_type": "markdown",
   "id": "5628d9ce",
   "metadata": {},
   "source": [
    "### Loading model"
   ]
  },
  {
   "cell_type": "code",
   "execution_count": 70,
   "id": "f75b3e19",
   "metadata": {},
   "outputs": [],
   "source": [
    "def create_model(num_classes:int):\n",
    "    weights = torchvision.models.EfficientNet_B2_Weights.DEFAULT\n",
    "    transforms = weights.transforms()\n",
    "    model = torchvision.models.efficientnet_b2(weights=weights)\n",
    "    \n",
    "    for param in model.parameters():\n",
    "        param.requires_grad = False\n",
    "    \n",
    "    model.classifier = nn.Sequential(nn.Dropout(p=0.3, inplace=True),\n",
    "                                     nn.Linear(in_features=1408, out_features=num_classes))\n",
    "    \n",
    "    return model, transforms"
   ]
  },
  {
   "cell_type": "code",
   "execution_count": 72,
   "id": "86fc59a6",
   "metadata": {},
   "outputs": [
    {
     "data": {
      "text/plain": [
       "<All keys matched successfully>"
      ]
     },
     "execution_count": 72,
     "metadata": {},
     "output_type": "execute_result"
    }
   ],
   "source": [
    "loaded_model, model_transforms = create_model(num_classes=100)\n",
    "\n",
    "loaded_model.load_state_dict(torch.load('models/fruits_100_feature_extractor_20.pth'))"
   ]
  },
  {
   "cell_type": "markdown",
   "id": "7efe31d2",
   "metadata": {},
   "source": [
    "### Check model size\n",
    "\n",
    "To make sure it works well on portable devices."
   ]
  },
  {
   "cell_type": "code",
   "execution_count": 73,
   "id": "89caa7e8",
   "metadata": {},
   "outputs": [
    {
     "name": "stdout",
     "output_type": "stream",
     "text": [
      "Size of the model (EfficientNetB2): 30 MB\n"
     ]
    }
   ],
   "source": [
    "model_size = Path('models', model_path).stat().st_size // (1024 * 1024)\n",
    "print(f'Size of the model (EfficientNetB2): {model_size} MB')"
   ]
  },
  {
   "cell_type": "code",
   "execution_count": 74,
   "id": "24eefc29",
   "metadata": {},
   "outputs": [
    {
     "data": {
      "text/plain": [
       "============================================================================================================================================\n",
       "Layer (type (var_name))                                      Input Shape          Output Shape         Param #              Trainable\n",
       "============================================================================================================================================\n",
       "EfficientNet (EfficientNet)                                  [1, 3, 224, 224]     [1, 100]             --                   Partial\n",
       "├─Sequential (features)                                      [1, 3, 224, 224]     [1, 1408, 7, 7]      --                   False\n",
       "│    └─Conv2dNormActivation (0)                              [1, 3, 224, 224]     [1, 32, 112, 112]    --                   False\n",
       "│    │    └─Conv2d (0)                                       [1, 3, 224, 224]     [1, 32, 112, 112]    (864)                False\n",
       "│    │    └─BatchNorm2d (1)                                  [1, 32, 112, 112]    [1, 32, 112, 112]    (64)                 False\n",
       "│    │    └─SiLU (2)                                         [1, 32, 112, 112]    [1, 32, 112, 112]    --                   --\n",
       "│    └─Sequential (1)                                        [1, 32, 112, 112]    [1, 16, 112, 112]    --                   False\n",
       "│    │    └─MBConv (0)                                       [1, 32, 112, 112]    [1, 16, 112, 112]    (1,448)              False\n",
       "│    │    └─MBConv (1)                                       [1, 16, 112, 112]    [1, 16, 112, 112]    (612)                False\n",
       "│    └─Sequential (2)                                        [1, 16, 112, 112]    [1, 24, 56, 56]      --                   False\n",
       "│    │    └─MBConv (0)                                       [1, 16, 112, 112]    [1, 24, 56, 56]      (6,004)              False\n",
       "│    │    └─MBConv (1)                                       [1, 24, 56, 56]      [1, 24, 56, 56]      (10,710)             False\n",
       "│    │    └─MBConv (2)                                       [1, 24, 56, 56]      [1, 24, 56, 56]      (10,710)             False\n",
       "│    └─Sequential (3)                                        [1, 24, 56, 56]      [1, 48, 28, 28]      --                   False\n",
       "│    │    └─MBConv (0)                                       [1, 24, 56, 56]      [1, 48, 28, 28]      (16,518)             False\n",
       "│    │    └─MBConv (1)                                       [1, 48, 28, 28]      [1, 48, 28, 28]      (43,308)             False\n",
       "│    │    └─MBConv (2)                                       [1, 48, 28, 28]      [1, 48, 28, 28]      (43,308)             False\n",
       "│    └─Sequential (4)                                        [1, 48, 28, 28]      [1, 88, 14, 14]      --                   False\n",
       "│    │    └─MBConv (0)                                       [1, 48, 28, 28]      [1, 88, 14, 14]      (50,300)             False\n",
       "│    │    └─MBConv (1)                                       [1, 88, 14, 14]      [1, 88, 14, 14]      (123,750)            False\n",
       "│    │    └─MBConv (2)                                       [1, 88, 14, 14]      [1, 88, 14, 14]      (123,750)            False\n",
       "│    │    └─MBConv (3)                                       [1, 88, 14, 14]      [1, 88, 14, 14]      (123,750)            False\n",
       "│    └─Sequential (5)                                        [1, 88, 14, 14]      [1, 120, 14, 14]     --                   False\n",
       "│    │    └─MBConv (0)                                       [1, 88, 14, 14]      [1, 120, 14, 14]     (149,158)            False\n",
       "│    │    └─MBConv (1)                                       [1, 120, 14, 14]     [1, 120, 14, 14]     (237,870)            False\n",
       "│    │    └─MBConv (2)                                       [1, 120, 14, 14]     [1, 120, 14, 14]     (237,870)            False\n",
       "│    │    └─MBConv (3)                                       [1, 120, 14, 14]     [1, 120, 14, 14]     (237,870)            False\n",
       "│    └─Sequential (6)                                        [1, 120, 14, 14]     [1, 208, 7, 7]       --                   False\n",
       "│    │    └─MBConv (0)                                       [1, 120, 14, 14]     [1, 208, 7, 7]       (301,406)            False\n",
       "│    │    └─MBConv (1)                                       [1, 208, 7, 7]       [1, 208, 7, 7]       (686,868)            False\n",
       "│    │    └─MBConv (2)                                       [1, 208, 7, 7]       [1, 208, 7, 7]       (686,868)            False\n",
       "│    │    └─MBConv (3)                                       [1, 208, 7, 7]       [1, 208, 7, 7]       (686,868)            False\n",
       "│    │    └─MBConv (4)                                       [1, 208, 7, 7]       [1, 208, 7, 7]       (686,868)            False\n",
       "│    └─Sequential (7)                                        [1, 208, 7, 7]       [1, 352, 7, 7]       --                   False\n",
       "│    │    └─MBConv (0)                                       [1, 208, 7, 7]       [1, 352, 7, 7]       (846,900)            False\n",
       "│    │    └─MBConv (1)                                       [1, 352, 7, 7]       [1, 352, 7, 7]       (1,888,920)          False\n",
       "│    └─Conv2dNormActivation (8)                              [1, 352, 7, 7]       [1, 1408, 7, 7]      --                   False\n",
       "│    │    └─Conv2d (0)                                       [1, 352, 7, 7]       [1, 1408, 7, 7]      (495,616)            False\n",
       "│    │    └─BatchNorm2d (1)                                  [1, 1408, 7, 7]      [1, 1408, 7, 7]      (2,816)              False\n",
       "│    │    └─SiLU (2)                                         [1, 1408, 7, 7]      [1, 1408, 7, 7]      --                   --\n",
       "├─AdaptiveAvgPool2d (avgpool)                                [1, 1408, 7, 7]      [1, 1408, 1, 1]      --                   --\n",
       "├─Sequential (classifier)                                    [1, 1408]            [1, 100]             --                   True\n",
       "│    └─Dropout (0)                                           [1, 1408]            [1, 1408]            --                   --\n",
       "│    └─Linear (1)                                            [1, 1408]            [1, 100]             140,900              True\n",
       "============================================================================================================================================\n",
       "Total params: 7,841,894\n",
       "Trainable params: 140,900\n",
       "Non-trainable params: 7,700,994\n",
       "Total mult-adds (Units.MEGABYTES): 657.78\n",
       "============================================================================================================================================\n",
       "Input size (MB): 0.60\n",
       "Forward/backward pass size (MB): 156.80\n",
       "Params size (MB): 31.37\n",
       "Estimated Total Size (MB): 188.77\n",
       "============================================================================================================================================"
      ]
     },
     "execution_count": 74,
     "metadata": {},
     "output_type": "execute_result"
    }
   ],
   "source": [
    "summary(model,\n",
    "        input_size=(1, 3, 224, 224),\n",
    "        col_names=['input_size', 'output_size', 'num_params', 'trainable'],\n",
    "        col_width=20,\n",
    "        row_settings=['var_names'])"
   ]
  },
  {
   "cell_type": "markdown",
   "id": "f60c61b7",
   "metadata": {},
   "source": [
    "### Turning the model to deployable app\n",
    "\n",
    "Make the model available for access."
   ]
  },
  {
   "cell_type": "code",
   "execution_count": 77,
   "id": "a189ee74",
   "metadata": {},
   "outputs": [],
   "source": [
    "# Fruit 100 app path\n",
    "fruit_100_path = Path('demos/fruit_100/')\n",
    "\n",
    "fruit_100_path.mkdir(parents=True,\n",
    "                     exist_ok=True)\n",
    "\n",
    "# Make fruit100 example samples\n",
    "(fruit_100_path / 'examples').mkdir(parents=True, exist_ok=True)"
   ]
  },
  {
   "cell_type": "markdown",
   "id": "2b38e25e",
   "metadata": {},
   "source": [
    "### Exporting Class Names\n",
    "\n",
    "Export to `class_names.txt` for reusing."
   ]
  },
  {
   "cell_type": "code",
   "execution_count": 79,
   "id": "5851f295",
   "metadata": {},
   "outputs": [
    {
     "data": {
      "text/plain": [
       "['abiu',\n",
       " 'acai',\n",
       " 'acerola',\n",
       " 'ackee',\n",
       " 'ambarella',\n",
       " 'apple',\n",
       " 'apricot',\n",
       " 'avocado',\n",
       " 'banana',\n",
       " 'barbadine']"
      ]
     },
     "execution_count": 79,
     "metadata": {},
     "output_type": "execute_result"
    }
   ],
   "source": [
    "class_names[:10]"
   ]
  },
  {
   "cell_type": "code",
   "execution_count": 80,
   "id": "999f0e84",
   "metadata": {},
   "outputs": [
    {
     "data": {
      "text/plain": [
       "WindowsPath('demos/fruit_100/class_names.txt')"
      ]
     },
     "execution_count": 80,
     "metadata": {},
     "output_type": "execute_result"
    }
   ],
   "source": [
    "fruit_100_class_names_path = fruit_100_path / 'class_names.txt'\n",
    "fruit_100_class_names_path"
   ]
  },
  {
   "cell_type": "code",
   "execution_count": 81,
   "id": "519d9dd8",
   "metadata": {},
   "outputs": [],
   "source": [
    "with open(fruit_100_class_names_path, 'w') as f:\n",
    "    f.write('\\n'.join(class_names))"
   ]
  },
  {
   "cell_type": "code",
   "execution_count": 83,
   "id": "fa09b124",
   "metadata": {},
   "outputs": [
    {
     "data": {
      "text/plain": [
       "['abiu',\n",
       " 'acai',\n",
       " 'acerola',\n",
       " 'ackee',\n",
       " 'ambarella',\n",
       " 'apple',\n",
       " 'apricot',\n",
       " 'avocado',\n",
       " 'banana',\n",
       " 'barbadine',\n",
       " 'barberry',\n",
       " 'betel_nut',\n",
       " 'bitter_gourd',\n",
       " 'black_berry',\n",
       " 'black_mullberry',\n",
       " 'brazil_nut',\n",
       " 'camu_camu',\n",
       " 'cashew',\n",
       " 'cempedak',\n",
       " 'chenet',\n",
       " 'cherimoya',\n",
       " 'chico',\n",
       " 'chokeberry',\n",
       " 'cluster_fig',\n",
       " 'coconut',\n",
       " 'corn_kernel',\n",
       " 'cranberry',\n",
       " 'cupuacu',\n",
       " 'custard_apple',\n",
       " 'damson',\n",
       " 'dewberry',\n",
       " 'dragonfruit',\n",
       " 'durian',\n",
       " 'eggplant',\n",
       " 'elderberry',\n",
       " 'emblic',\n",
       " 'feijoa',\n",
       " 'fig',\n",
       " 'finger_lime',\n",
       " 'gooseberry',\n",
       " 'goumi',\n",
       " 'grape',\n",
       " 'grapefruit',\n",
       " 'greengage',\n",
       " 'grenadilla',\n",
       " 'guava',\n",
       " 'hard_kiwi',\n",
       " 'hawthorn',\n",
       " 'hog_plum',\n",
       " 'horned_melon',\n",
       " 'indian_strawberry',\n",
       " 'jaboticaba',\n",
       " 'jackfruit',\n",
       " 'jalapeno',\n",
       " 'jamaica_cherry',\n",
       " 'jambul',\n",
       " 'jocote',\n",
       " 'jujube',\n",
       " 'kaffir_lime',\n",
       " 'kumquat',\n",
       " 'lablab',\n",
       " 'langsat',\n",
       " 'longan',\n",
       " 'mabolo',\n",
       " 'malay_apple',\n",
       " 'mandarine',\n",
       " 'mango',\n",
       " 'mangosteen',\n",
       " 'medlar',\n",
       " 'mock_strawberry',\n",
       " 'morinda',\n",
       " 'mountain_soursop',\n",
       " 'oil_palm',\n",
       " 'olive',\n",
       " 'otaheite_apple',\n",
       " 'papaya',\n",
       " 'passion_fruit',\n",
       " 'pawpaw',\n",
       " 'pea',\n",
       " 'pineapple',\n",
       " 'plumcot',\n",
       " 'pomegranate',\n",
       " 'prikly_pear',\n",
       " 'quince',\n",
       " 'rambutan',\n",
       " 'raspberry',\n",
       " 'redcurrant',\n",
       " 'rose_hip',\n",
       " 'rose_leaf_bramble',\n",
       " 'salak',\n",
       " 'santol',\n",
       " 'sapodilla',\n",
       " 'sea_buckthorn',\n",
       " 'strawberry_guava',\n",
       " 'sugar_apple',\n",
       " 'taxus_baccata',\n",
       " 'ugli_fruit',\n",
       " 'white_currant',\n",
       " 'yali_pear',\n",
       " 'yellow_plum']"
      ]
     },
     "execution_count": 83,
     "metadata": {},
     "output_type": "execute_result"
    }
   ],
   "source": [
    "with open(fruit_100_class_names_path, 'r') as f:\n",
    "    fruit_100_class_names = [fruit.strip() for fruit in f.readlines()]\n",
    "    \n",
    "fruit_100_class_names"
   ]
  },
  {
   "cell_type": "markdown",
   "id": "a4c66f81",
   "metadata": {},
   "source": [
    "### Turning the model into a Python script as `model.py`"
   ]
  },
  {
   "cell_type": "code",
   "execution_count": 85,
   "id": "62a50386",
   "metadata": {},
   "outputs": [
    {
     "name": "stdout",
     "output_type": "stream",
     "text": [
      "Writing demos/fruit_100/model.py\n"
     ]
    }
   ],
   "source": [
    "%%writefile demos/fruit_100/model.py\n",
    "\n",
    "import torch\n",
    "import torchvision\n",
    "\n",
    "from torch import nn\n",
    "\n",
    "def create_effnetb2_model(num_classes:int=100):\n",
    "    weights = torchvision.models.EfficientNet_B2_Weights.DEFAULT\n",
    "    transforms = weights.transforms()\n",
    "    model = torchvision.models.efficientnet_b2(weights=weights)\n",
    "    \n",
    "    for param in model.parameters():\n",
    "        param.requires_grad = False\n",
    "        \n",
    "#     torch.manual_seed(seed)\n",
    "    model.classifier = nn.Sequential(\n",
    "        nn.Dropout(p=0.3, inplace=True),\n",
    "        nn.Linear(in_features=1408, out_features=num_classes)\n",
    "    )\n",
    "    \n",
    "    return model, transforms"
   ]
  },
  {
   "cell_type": "markdown",
   "id": "bf842c53",
   "metadata": {},
   "source": [
    "### Turning Fruit 100 app for Gradio to Python Script `app.py`"
   ]
  },
  {
   "cell_type": "code",
   "execution_count": null,
   "id": "066ff3d2",
   "metadata": {},
   "outputs": [],
   "source": [
    "%%writefile demos/fruit_100/app.py\n",
    "\n",
    "import torch\n",
    "import gradio as gr\n",
    "import os\n",
    "from timeit import default_timer as timer\n",
    "from typing import Tuple, Dict\n",
    "from model import create_effnetb2_model\n",
    "\n",
    "# Importing class names\n",
    "with open('class_names.txt', 'r') as f:\n",
    "    class_names = [fruit.strip() for fruit in f.readlines()]\n",
    "\n",
    "# Initialising model\n",
    "model, model_transforms = create_effnetb2_model(num_classes=len(class_names))\n",
    "\n",
    "# Load model\n",
    "model.load_state_dict(torch.load(f='fruits_100_feature_extractor_20.pth'),\n",
    "                      map_location=torch.device('cpu'))\n",
    "\n",
    "# Prediction\n",
    "def predict(img) -> Tuple[Dict, float]:\n",
    "    # Start a timer\n",
    "    start_time = timer()\n",
    "    \n",
    "    # Transform the input image for use with EffNeetB2\n",
    "    img = model_transforms(img).unsqueeze(0) # unsqueeze = add batch dimension on 0th index\n",
    "    \n",
    "    # Put model into eval mode, make prediction\n",
    "    model.eval()\n",
    "    with torch.inference_mode():\n",
    "        # Pass transformed image through the model and turn the prediction logits into probabilities\n",
    "        pred_probs = torch.softmax(effnetb2(img), dim=1)\n",
    "        \n",
    "    # Create a prediction label and prediction probability dictionary\n",
    "    pred_labels_and_probs = {class_names[i]: float(pred_probs[0][i]) for i in range(len(class_names))}\n",
    "    \n",
    "    # Calculate pred time\n",
    "    end_time = timer()\n",
    "    pred_time = round(end_time - start_time, 4)\n",
    "    \n",
    "    # Return pred dict and pred time\n",
    "    return pred_labels_and_probs, pred_time\n",
    "\n",
    "# Launching demo\n",
    "# Create title, description, article\n",
    "title = 'Fruit Vision 👁️🔎🍊'\n",
    "description = 'Trained 100 Fruit Classes with [EfficientNetB2](https://pytorch.org/vision/stable/models/generated/torchvision.models.efficientnet_b2.html#torchvision.models.efficientnet_b2).'\n",
    "article = 'Source code at [TC GitHub](https://google.com)'\n",
    "\n",
    "# Create example list\n",
    "example_list = [['examples/' + example] for example in os.listdir('examples')]\n",
    "\n",
    "# Create the Gradio demo\n",
    "demo = gr.Interface(fn=predict, # maps inputs to outputs\n",
    "                    inputs=gr.Image(type='pil'),\n",
    "                    outputs=[gr.Label(num_top_classes=5,\n",
    "                                      label='Predictions'),\n",
    "                             gr.Number(label='Prediction time (s)')],\n",
    "                    examples=example_list,\n",
    "                    title=title,\n",
    "                    description=description,\n",
    "                    article=article)\n",
    "\n",
    "# Launch the demo\n",
    "demo.launch(debug=False, # print error locally\n",
    "            share=False) # generate a publically shareable URL"
   ]
  },
  {
   "cell_type": "markdown",
   "id": "b398a244",
   "metadata": {},
   "source": [
    "### Saving dependencies"
   ]
  },
  {
   "cell_type": "code",
   "execution_count": 87,
   "id": "319fb071",
   "metadata": {},
   "outputs": [
    {
     "name": "stdout",
     "output_type": "stream",
     "text": [
      "Writing demos/fruit_100/requirements.txt\n"
     ]
    }
   ],
   "source": [
    "%%writefile demos/fruit_100/requirements.txt\n",
    "torch==2.0.1\n",
    "torchvision==0.15.2\n",
    "gradio==4.0.2"
   ]
  },
  {
   "cell_type": "code",
   "execution_count": null,
   "id": "befe87b9",
   "metadata": {},
   "outputs": [],
   "source": [
    "###"
   ]
  }
 ],
 "metadata": {
  "kernelspec": {
   "display_name": "Python [conda env:general]",
   "language": "python",
   "name": "conda-env-general-py"
  },
  "language_info": {
   "codemirror_mode": {
    "name": "ipython",
    "version": 3
   },
   "file_extension": ".py",
   "mimetype": "text/x-python",
   "name": "python",
   "nbconvert_exporter": "python",
   "pygments_lexer": "ipython3",
   "version": "3.11.3"
  }
 },
 "nbformat": 4,
 "nbformat_minor": 5
}
